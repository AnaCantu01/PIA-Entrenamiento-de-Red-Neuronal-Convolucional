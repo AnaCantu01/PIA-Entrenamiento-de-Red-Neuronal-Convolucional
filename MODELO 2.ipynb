{
  "nbformat": 4,
  "nbformat_minor": 0,
  "metadata": {
    "colab": {
      "name": "RedConvolucionalModelo.ipynb",
      "provenance": []
    },
    "kernelspec": {
      "name": "python3",
      "display_name": "Python 3"
    },
    "language_info": {
      "name": "python"
    }
  },
  "cells": [
    {
      "cell_type": "markdown",
      "source": [
        "\n",
        "\n",
        "# **PIA: Entrenamiento de Red Neuronal Convolucional**\n",
        "\n",
        "*   Ana Paula Cantú Díaz 1663389\n",
        "*   Armando Morales Olivares 1986674\n",
        "*   David Guajardo García 1830137\n",
        "*   Dylan Jesús Cepeda González 1942496\n",
        "\n",
        "* Hiram Said Bravo Moreno 1818152\n",
        "\n"
      ],
      "metadata": {
        "id": "hBwKqLA0BbNU"
      }
    },
    {
      "cell_type": "code",
      "execution_count": 1,
      "metadata": {
        "id": "U12TZ0GB7nh9"
      },
      "outputs": [],
      "source": [
        "import tensorflow as tf\n",
        "import numpy as np\n",
        "from tensorflow.keras import datasets, layers, models\n",
        "import matplotlib.pyplot as plt"
      ]
    },
    {
      "cell_type": "code",
      "source": [
        "(train_images, train_labels), (test_images, test_labels) = tf.keras.datasets.cifar100.load_data(label_mode=\"fine\")\n",
        "(train_images, train_labels), (test_images, test_labels) = tf.keras.datasets.cifar100.load_data(label_mode=\"coarse\")\n",
        "# Normalize pixel values to be between 0 and 1\n",
        "train_images, test_images = train_images / 255.0, test_images / 255.0"
      ],
      "metadata": {
        "colab": {
          "base_uri": "https://localhost:8080/"
        },
        "id": "C_dwdmr37qpp",
        "outputId": "53509c12-8349-454c-d688-514cecc0221c"
      },
      "execution_count": 2,
      "outputs": [
        {
          "output_type": "stream",
          "name": "stdout",
          "text": [
            "Downloading data from https://www.cs.toronto.edu/~kriz/cifar-100-python.tar.gz\n",
            "169009152/169001437 [==============================] - 3s 0us/step\n",
            "169017344/169001437 [==============================] - 3s 0us/step\n"
          ]
        }
      ]
    },
    {
      "cell_type": "code",
      "source": [
        "(train_images, train_labels), (test_images, test_labels) = tf.keras.datasets.cifar100.load_data(label_mode=\"fine\")\n",
        "(train_images, train_labels), (test_images, test_labels) = tf.keras.datasets.cifar100.load_data(label_mode=\"coarse\")\n",
        "assert train_images.shape == (50000, 32, 32, 3)\n",
        "assert test_images.shape == (10000, 32, 32, 3)\n",
        "assert train_labels.shape == (50000, 1)\n",
        "assert test_labels.shape == (10000, 1)"
      ],
      "metadata": {
        "id": "c3h7jeJd7qZ5"
      },
      "execution_count": 3,
      "outputs": []
    },
    {
      "cell_type": "code",
      "source": [
        "superclass_names = ['aquatic-mammals', 'fish', 'flowers', 'food-containers', 'fruit and vegetables',\n",
        "                    'household-electrical-devices', 'household-furniture', 'insects', 'large carnivores', 'large man-made outdoor things',\n",
        "                    'large natural outdoor scenes', 'large omnivores and herbivores', 'medium-sized mammals', 'non-insect invertebrates', 'people',\n",
        "                    'reptiles', 'small mammals', 'trees', 'vehicles 1', 'vehicles 2']\n",
        "class_names = ['beaver', 'dolphin', 'otter', 'seal', 'whale',\n",
        "               'aquarium-fish', 'flatfish', 'ray', 'shark', 'trout',\n",
        "               'orchids', 'poppies', 'roses', 'sunflowers', 'tulips',\n",
        "               'bottles', 'bowls', 'cans', 'cups', 'plates',\n",
        "               'apples', 'mushrooms', 'oranges', 'pears', 'sweet-peppers',\n",
        "               'clock', 'computer keyboard', 'lamp', 'telephone', 'television',\n",
        "               'bed', 'chair', 'couch', 'table', 'wardrobe',\n",
        "               'bee', 'beetle', 'butterfly', 'caterpillar', 'cockroach',\n",
        "               'bear', 'leopard', 'lion', 'tiger', 'wolf',\n",
        "               'bridge', 'castle', 'house', 'road', 'skyscraper',\n",
        "               'cloud', 'forest', 'mountain', 'plain', 'sea',\n",
        "               'camel', 'cattle', 'chimpanzee', 'elephant', 'kangaroo',\n",
        "               'fox', 'porcupine', 'possum', 'raccoon', 'skunk',\n",
        "               'crab', 'lobster', 'snail', 'spider', 'worm',\n",
        "               'baby', 'boy', 'girl', 'man', 'woman',\n",
        "               'crocodile', 'dinosaur', 'lizard', 'snake', 'turtle',\n",
        "               'hamster', 'mouse', 'rabbit', 'shrew', 'squirrel',\n",
        "               'maple', 'oak', 'palm', 'pine', 'willow',\n",
        "               'bicycle', 'bus', 'motorcycle', 'pickup truck', 'train',\n",
        "               'lawn-mower', 'rocket', 'streetcar', 'tank', 'tractor']\n",
        "\n",
        "plt.figure(figsize=(32,32))\n",
        "for i in range(25):\n",
        "  plt.subplot(5,5,i+1)\n",
        "  plt.xticks([])\n",
        "  plt.yticks([])\n",
        "  plt.grid(False)\n",
        "  plt.imshow(train_images[i])\n",
        "  plt.xlabel(class_names[test_labels[i][0]])\n",
        "  plt.ylabel(superclass_names[train_labels[i][0]])\n",
        "plt.show()"
      ],
      "metadata": {
        "id": "Dtz_xMKX7qXD"
      },
      "execution_count": null,
      "outputs": []
    },
    {
      "cell_type": "code",
      "source": [
        "model = models.Sequential()\n",
        "model.add(layers.Conv2D(64, (3, 3), activation='relu', input_shape=(32, 32, 3)))\n",
        "model.add(layers.MaxPooling2D((2, 2)))\n",
        "model.add(layers.Conv2D(64, (3, 3), activation='relu'))\n",
        "model.add(layers.MaxPooling2D((2, 2)))\n",
        "model.add(layers.Conv2D(128, (3, 3), activation='relu'))"
      ],
      "metadata": {
        "id": "yJwWgbL77qUi"
      },
      "execution_count": 21,
      "outputs": []
    },
    {
      "cell_type": "code",
      "source": [
        "model.summary()"
      ],
      "metadata": {
        "id": "VLFHj8Nu7qHr"
      },
      "execution_count": null,
      "outputs": []
    },
    {
      "cell_type": "code",
      "source": [
        "model.add(layers.Flatten())\n",
        "model.add(layers.Dense(128, activation='relu'))\n",
        "model.add(layers.Dense(100, activation='softmax'))"
      ],
      "metadata": {
        "id": "WFAhMMzd7qFe"
      },
      "execution_count": 22,
      "outputs": []
    },
    {
      "cell_type": "code",
      "source": [
        "model.summary()"
      ],
      "metadata": {
        "id": "4GUBjwpQ7qC9"
      },
      "execution_count": null,
      "outputs": []
    },
    {
      "cell_type": "code",
      "source": [
        "model.compile(optimizer='Adam',\n",
        "              loss=tf.keras.losses.SparseCategoricalCrossentropy(from_logits=True),\n",
        "              metrics=['accuracy'])\n",
        "\n",
        "history = model.fit(train_images, train_labels, epochs=10, validation_data=(test_images, test_labels))"
      ],
      "metadata": {
        "colab": {
          "base_uri": "https://localhost:8080/"
        },
        "id": "v9Px4Qbk75ba",
        "outputId": "36ee4ec7-d642-445a-c670-99a87188027e"
      },
      "execution_count": 23,
      "outputs": [
        {
          "output_type": "stream",
          "name": "stdout",
          "text": [
            "Epoch 1/10\n"
          ]
        },
        {
          "output_type": "stream",
          "name": "stderr",
          "text": [
            "/usr/local/lib/python3.7/dist-packages/tensorflow/python/util/dispatch.py:1082: UserWarning: \"`sparse_categorical_crossentropy` received `from_logits=True`, but the `output` argument was produced by a sigmoid or softmax activation and thus does not represent logits. Was this intended?\"\n",
            "  return dispatch_target(*args, **kwargs)\n"
          ]
        },
        {
          "output_type": "stream",
          "name": "stdout",
          "text": [
            "1563/1563 [==============================] - 134s 86ms/step - loss: 2.6097 - accuracy: 0.2267 - val_loss: 2.3004 - val_accuracy: 0.2966\n",
            "Epoch 2/10\n",
            "1563/1563 [==============================] - 131s 83ms/step - loss: 2.2206 - accuracy: 0.3175 - val_loss: 2.1382 - val_accuracy: 0.3376\n",
            "Epoch 3/10\n",
            "1563/1563 [==============================] - 133s 85ms/step - loss: 2.0702 - accuracy: 0.3615 - val_loss: 2.0622 - val_accuracy: 0.3581\n",
            "Epoch 4/10\n",
            "1563/1563 [==============================] - 134s 85ms/step - loss: 1.9575 - accuracy: 0.3943 - val_loss: 2.0149 - val_accuracy: 0.3810\n",
            "Epoch 5/10\n",
            "1563/1563 [==============================] - 133s 85ms/step - loss: 1.8479 - accuracy: 0.4248 - val_loss: 2.0203 - val_accuracy: 0.3904\n",
            "Epoch 6/10\n",
            "1563/1563 [==============================] - 131s 84ms/step - loss: 1.7480 - accuracy: 0.4533 - val_loss: 2.0212 - val_accuracy: 0.3884\n",
            "Epoch 7/10\n",
            "1563/1563 [==============================] - 133s 85ms/step - loss: 1.6507 - accuracy: 0.4834 - val_loss: 2.1769 - val_accuracy: 0.3682\n",
            "Epoch 8/10\n",
            "1563/1563 [==============================] - 134s 86ms/step - loss: 1.5447 - accuracy: 0.5116 - val_loss: 2.1494 - val_accuracy: 0.3812\n",
            "Epoch 9/10\n",
            "1563/1563 [==============================] - 132s 85ms/step - loss: 1.4611 - accuracy: 0.5396 - val_loss: 2.2398 - val_accuracy: 0.3859\n",
            "Epoch 10/10\n",
            "1563/1563 [==============================] - 132s 84ms/step - loss: 1.3872 - accuracy: 0.5596 - val_loss: 2.2796 - val_accuracy: 0.3922\n"
          ]
        }
      ]
    },
    {
      "cell_type": "code",
      "source": [
        "plt.plot(history.history['accuracy'], label='accuracy')\n",
        "plt.plot(history.history['val_accuracy'], label = 'val_accuracy')\n",
        "plt.xlabel('Epoch')\n",
        "plt.ylabel('Accuracy')\n",
        "plt.ylim([0, 1])\n",
        "plt.legend(loc='lower right')\n",
        "\n",
        "test_loss, test_acc = model.evaluate(test_images,  test_labels, verbose=2)"
      ],
      "metadata": {
        "colab": {
          "base_uri": "https://localhost:8080/",
          "height": 300
        },
        "id": "sPY3ufLD7p_6",
        "outputId": "4cc51dcf-a2a6-40b5-92c6-da1a5733532d"
      },
      "execution_count": 24,
      "outputs": [
        {
          "output_type": "stream",
          "name": "stdout",
          "text": [
            "313/313 - 6s - loss: 2.2796 - accuracy: 0.3922 - 6s/epoch - 18ms/step\n"
          ]
        },
        {
          "output_type": "display_data",
          "data": {
            "text/plain": [
              "<Figure size 432x288 with 1 Axes>"
            ],
            "image/png": "[encoded data removed]"
          },
          "metadata": {
            "needs_background": "light"
          }
        }
      ]
    }
  ]
}